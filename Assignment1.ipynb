{
  "nbformat": 4,
  "nbformat_minor": 0,
  "metadata": {
    "colab": {
      "provenance": [],
      "authorship_tag": "ABX9TyNC35KXPk6wdrwi8+fyzunL",
      "include_colab_link": true
    },
    "kernelspec": {
      "name": "python3",
      "display_name": "Python 3"
    },
    "language_info": {
      "name": "python"
    }
  },
  "cells": [
    {
      "cell_type": "markdown",
      "metadata": {
        "id": "view-in-github",
        "colab_type": "text"
      },
      "source": [
        "<a href=\"https://colab.research.google.com/github/madhu967/Basic-Ml/blob/main/Assignment1.ipynb\" target=\"_parent\"><img src=\"https://colab.research.google.com/assets/colab-badge.svg\" alt=\"Open In Colab\"/></a>"
      ]
    },
    {
      "cell_type": "markdown",
      "source": [
        "#Question 1\n",
        "\n",
        "perform arithmetic operations on NumPy arrays"
      ],
      "metadata": {
        "id": "VhieGF6FChwZ"
      }
    },
    {
      "cell_type": "code",
      "source": [
        "import numpy as np\n",
        "a = np.array([1, 2, 3])\n",
        "b = np.array([1, 2, 3])\n",
        "\n",
        "\n",
        "add = a + b\n",
        "sub = a - b\n",
        "mul = a * b\n",
        "div = a / b\n",
        "\n",
        "print(\"Addition:\", add)\n",
        "print(\"Subtraction:\", sub)\n",
        "print(\"Multiplication:\", mul)\n",
        "print(\"Division:\", div)"
      ],
      "metadata": {
        "colab": {
          "base_uri": "https://localhost:8080/"
        },
        "id": "6sERDVP5CxQK",
        "outputId": "2006f5f0-82ab-4c01-ef47-0f7f1636980b"
      },
      "execution_count": 3,
      "outputs": [
        {
          "output_type": "stream",
          "name": "stdout",
          "text": [
            "Addition: [2 4 6]\n",
            "Subtraction: [0 0 0]\n",
            "Multiplication: [1 4 9]\n",
            "Division: [1. 1. 1.]\n"
          ]
        }
      ]
    },
    {
      "cell_type": "markdown",
      "source": [
        "#Question 2\n",
        " Write a script to compute the mean and standard deviation of a NumPy array"
      ],
      "metadata": {
        "id": "Ql6pnj4NEHNi"
      }
    },
    {
      "cell_type": "code",
      "source": [
        "data = np.array([10, 20, 30, 40, 50])\n",
        "\n",
        "\n",
        "mean = np.mean(data)\n",
        "std_dev = np.std(data)\n",
        "\n",
        "print(\"Mean:\", mean)\n",
        "print(\"Standard Deviation:\", std_dev)\n"
      ],
      "metadata": {
        "colab": {
          "base_uri": "https://localhost:8080/"
        },
        "id": "WHQyyJ9cEgDw",
        "outputId": "841afced-326a-4d2b-b42c-dd2451fb5b13"
      },
      "execution_count": 4,
      "outputs": [
        {
          "output_type": "stream",
          "name": "stdout",
          "text": [
            "Mean: 30.0\n",
            "Standard Deviation: 14.142135623730951\n"
          ]
        }
      ]
    },
    {
      "cell_type": "markdown",
      "source": [
        "#Question 3\n",
        " Create a NumPy array of integers from 10 to 50 with a step size of 5."
      ],
      "metadata": {
        "id": "SYuMoZqzEm_H"
      }
    },
    {
      "cell_type": "code",
      "source": [
        "array = np.arange(10, 51, 5)\n",
        "print(\"Array:\", array)"
      ],
      "metadata": {
        "colab": {
          "base_uri": "https://localhost:8080/"
        },
        "id": "5IukgkoSEu_4",
        "outputId": "75a46f2e-7041-4644-f6e8-124faada2623"
      },
      "execution_count": 5,
      "outputs": [
        {
          "output_type": "stream",
          "name": "stdout",
          "text": [
            "Array: [10 15 20 25 30 35 40 45 50]\n"
          ]
        }
      ]
    },
    {
      "cell_type": "markdown",
      "source": [
        "#Question 4\n",
        "Reshape the array into a 2x4 matrix."
      ],
      "metadata": {
        "id": "AGjWLW1yEzwI"
      }
    },
    {
      "cell_type": "code",
      "source": [
        "array = array[:8]\n",
        "reshaped_arr = array.reshape(2, 4)\n",
        "print(\"Reshaped Array:\\n\", reshaped_arr)"
      ],
      "metadata": {
        "colab": {
          "base_uri": "https://localhost:8080/"
        },
        "id": "xRuquEpoE5DA",
        "outputId": "0e2a3d59-0e53-45d1-d930-a78002dd4f67"
      },
      "execution_count": 6,
      "outputs": [
        {
          "output_type": "stream",
          "name": "stdout",
          "text": [
            "Reshaped Array:\n",
            " [[10 15 20 25]\n",
            " [30 35 40 45]]\n"
          ]
        }
      ]
    },
    {
      "cell_type": "markdown",
      "source": [
        "#Question 5\n",
        " Given the array arr = np.array([[1, 2, 3], [4, 5, 6], [7, 8, 9]]):\n",
        " Extract the sub-matrix containing the last two rows and first two columns.\n",
        " Replace all elements greater than 4 with 0."
      ],
      "metadata": {
        "id": "s-t9ny_ZE9FZ"
      }
    },
    {
      "cell_type": "code",
      "source": [
        "array = np.array([[1, 2, 3], [4, 5, 6], [7, 8, 9]])\n",
        "\n",
        "sub_matrix = array[1:, :2]\n",
        "\n",
        "array[array > 4] = 0\n",
        "\n",
        "print(\"Sub matrix:\\n\", sub_matrix)\n",
        "print(\"Modified Array:\\n\", array)"
      ],
      "metadata": {
        "colab": {
          "base_uri": "https://localhost:8080/"
        },
        "id": "d3M_qyijFJBJ",
        "outputId": "d9f717c2-8b2c-457d-f0f0-585d63bdb3cb"
      },
      "execution_count": 7,
      "outputs": [
        {
          "output_type": "stream",
          "name": "stdout",
          "text": [
            "Sub matrix:\n",
            " [[4 0]\n",
            " [0 0]]\n",
            "Modified Array:\n",
            " [[1 2 3]\n",
            " [4 0 0]\n",
            " [0 0 0]]\n"
          ]
        }
      ]
    },
    {
      "cell_type": "markdown",
      "source": [
        "#Question 6\n",
        " Create two 1D arrays:\n",
        "a = np.array([1, 2, 3])\n",
        " b = np.array([4, 5, 6])\n",
        "Perform element-wise addition, multiplication, and division."
      ],
      "metadata": {
        "id": "-OPbXu1GFN4R"
      }
    },
    {
      "cell_type": "code",
      "source": [
        "a = np.array([1, 2, 3])\n",
        "b = np.array([1, 2, 3])\n",
        "\n",
        "\n",
        "add = a + b\n",
        "\n",
        "mul = a * b\n",
        "div = a / b\n",
        "\n",
        "print(\"Addition:\", add)\n",
        "print(\"Multiplication:\", mul)\n",
        "print(\"Division:\", div)"
      ],
      "metadata": {
        "colab": {
          "base_uri": "https://localhost:8080/"
        },
        "id": "lbf71IXqFV9Z",
        "outputId": "8b9ca414-731c-4188-8471-4598f0dadbe6"
      },
      "execution_count": 8,
      "outputs": [
        {
          "output_type": "stream",
          "name": "stdout",
          "text": [
            "Addition: [2 4 6]\n",
            "Multiplication: [1 4 9]\n",
            "Division: [1. 1. 1.]\n"
          ]
        }
      ]
    },
    {
      "cell_type": "markdown",
      "source": [
        "#Question 7\n",
        " Create a random NumPy array of size (4, 4). Compute:\n",
        " Mean of each column.\n",
        "Maximum value of the entire array.\n",
        "Sum of all elements.\n"
      ],
      "metadata": {
        "id": "e9VRINFEFaxx"
      }
    },
    {
      "cell_type": "code",
      "source": [
        "ran_array = np.random.rand(4, 4) * 100\n",
        "\n",
        "print(ran_array)\n",
        "col_mean = np.mean(ran_array, axis=0)\n",
        "max_value = np.max(ran_array)\n",
        "total_sum = np.sum(ran_array)\n",
        "\n",
        "print(\"Column Means:\", col_mean)\n",
        "print(\"Maximum Value:\", max_value)\n",
        "print(\"Sum of All Elements:\", total_sum)"
      ],
      "metadata": {
        "colab": {
          "base_uri": "https://localhost:8080/"
        },
        "id": "Hoafm13GFjJ6",
        "outputId": "bb96f608-2b5b-4f3e-8834-228cc1c11e47"
      },
      "execution_count": 9,
      "outputs": [
        {
          "output_type": "stream",
          "name": "stdout",
          "text": [
            "[[67.98982201 16.88200776 72.09791385 56.55876976]\n",
            " [14.44662467 66.80847005 62.3341225  20.16932393]\n",
            " [50.2366677  55.82977233 38.35284565 28.9311775 ]\n",
            " [80.12974647 58.54356078 28.15432614 19.00210416]]\n",
            "Column Means: [53.20071522 49.51595273 50.23480203 31.16534384]\n",
            "Maximum Value: 80.12974647269274\n",
            "Sum of All Elements: 736.4672552772604\n"
          ]
        }
      ]
    },
    {
      "cell_type": "markdown",
      "source": [
        "#Question 8\n",
        "Given the array arr = np.array([1, 2, 3, 4]), add 10 to each element and multiply\n",
        "the result by 2."
      ],
      "metadata": {
        "id": "HnB6Ct3MFq1T"
      }
    },
    {
      "cell_type": "code",
      "source": [
        "array = np.array([[1, 2, 3, 4], [5,6,7,8]])\n",
        "\n",
        "result_array = (array + 10) * 2\n",
        "print(\"Modified Array:\\n\", result_array)"
      ],
      "metadata": {
        "colab": {
          "base_uri": "https://localhost:8080/"
        },
        "id": "ztjJysffFyAr",
        "outputId": "815b17af-f752-4b02-fffa-86c98f008cf9"
      },
      "execution_count": 10,
      "outputs": [
        {
          "output_type": "stream",
          "name": "stdout",
          "text": [
            "Modified Array:\n",
            " [[22 24 26 28]\n",
            " [30 32 34 36]]\n"
          ]
        }
      ]
    },
    {
      "cell_type": "markdown",
      "source": [
        "#Question 9\n",
        "Perform advanced slicing and indexing on a 3D array.\n",
        "Create a 3D NumPy array arr of shape (3, 4, 5) with random integers ranging from\n",
        " 1 to 100. Perform the following:\n",
        "Extract the second \"layer\" (i.e., the second 2D array) in the first dimension.\n",
        " Extract the first two rows and the last three columns from each \"layer.\"\n",
        " Replace all elements divisible by 3 with -1."
      ],
      "metadata": {
        "id": "PaGJEXl_F2tB"
      }
    },
    {
      "cell_type": "code",
      "source": [
        "array = np.random.randint(1, 101, (3, 4, 5))\n",
        "\n",
        "second_layer = array[1]\n",
        "\n",
        "sub_matrix = array[:, :2, -3:]\n",
        "\n",
        "array[array % 3 == 0] = -1\n",
        "\n",
        "print(\"Second Layer:\\n\", second_layer)\n",
        "print(\"Sub-matrix:\\n\", sub_matrix)\n",
        "print(\"Modified Array:\\n\", array)"
      ],
      "metadata": {
        "colab": {
          "base_uri": "https://localhost:8080/"
        },
        "id": "STWzSG_VF-NJ",
        "outputId": "0eac0a8f-d818-4446-8454-dcdb65d9e2f6"
      },
      "execution_count": 11,
      "outputs": [
        {
          "output_type": "stream",
          "name": "stdout",
          "text": [
            "Second Layer:\n",
            " [[-1 -1 34 14 -1]\n",
            " [50 26 16 64  1]\n",
            " [82 -1 -1 62 -1]\n",
            " [94 76 29 -1 -1]]\n",
            "Sub-matrix:\n",
            " [[[ -1  40  40]\n",
            "  [ -1  22  -1]]\n",
            "\n",
            " [[ 34  14  -1]\n",
            "  [ 16  64   1]]\n",
            "\n",
            " [[ -1  98 100]\n",
            "  [ -1  -1  62]]]\n",
            "Modified Array:\n",
            " [[[  7  34  -1  40  40]\n",
            "  [ -1  -1  -1  22  -1]\n",
            "  [ 77  -1  -1  13  -1]\n",
            "  [ 88  23  25  -1  32]]\n",
            "\n",
            " [[ -1  -1  34  14  -1]\n",
            "  [ 50  26  16  64   1]\n",
            "  [ 82  -1  -1  62  -1]\n",
            "  [ 94  76  29  -1  -1]]\n",
            "\n",
            " [[ 52  -1  -1  98 100]\n",
            "  [ -1  49  -1  -1  62]\n",
            "  [ 38  -1  55  97  98]\n",
            "  [ 77  -1  50  -1  89]]]\n"
          ]
        }
      ]
    },
    {
      "cell_type": "markdown",
      "source": [
        "#Question 10\n",
        " Work with broadcasting and advanced operations in NumPy.\n",
        " Create a NumPy array arr of shape (3, 3) with random integers between\n",
        " 1 and 20. Perform the following:\n",
        "Subtract the mean of each row from its respective elements (row-wise\n",
        "normalization).\n",
        "Create a new array by squaring all the elements in arr.\n",
        " Find the indices of the top 3 maximum values in the entire array\n"
      ],
      "metadata": {
        "id": "rJqnSNnOGKFJ"
      }
    },
    {
      "cell_type": "code",
      "source": [
        "arr = np.random.randint(1, 21, (3, 3))\n",
        "\n",
        "row_means = np.mean(arr, axis=1, keepdims=True)\n",
        "normalized_arr = arr - row_means\n",
        "\n",
        "squared_arr = arr ** 2\n",
        "\n",
        "\n",
        "flattened_indices = np.argsort(arr.ravel())[-3:]\n",
        "\n",
        "indices = [np.unravel_index(idx, arr.shape) for idx in flattened_indices]\n",
        "\n",
        "print(\"Original Array:\\n\", arr)\n",
        "print(\"Row-wise Normalized Array:\\n\", normalized_arr)\n",
        "print(\"Squared Array:\\n\", squared_arr)\n",
        "print(\"Indices of Top 3 Maximum Values:\", indices)"
      ],
      "metadata": {
        "colab": {
          "base_uri": "https://localhost:8080/"
        },
        "id": "AmfJAU_7GUMq",
        "outputId": "14c4a912-1356-4ff7-c9a3-ee89320058f1"
      },
      "execution_count": 12,
      "outputs": [
        {
          "output_type": "stream",
          "name": "stdout",
          "text": [
            "Original Array:\n",
            " [[11  6  7]\n",
            " [14  5 11]\n",
            " [ 2  6  2]]\n",
            "Row-wise Normalized Array:\n",
            " [[ 3.         -2.         -1.        ]\n",
            " [ 4.         -5.          1.        ]\n",
            " [-1.33333333  2.66666667 -1.33333333]]\n",
            "Squared Array:\n",
            " [[121  36  49]\n",
            " [196  25 121]\n",
            " [  4  36   4]]\n",
            "Indices of Top 3 Maximum Values: [(0, 0), (1, 2), (1, 0)]\n"
          ]
        }
      ]
    }
  ]
}